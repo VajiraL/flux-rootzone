{
 "cells": [
  {
   "cell_type": "code",
   "execution_count": 2,
   "id": "749eb6ce",
   "metadata": {},
   "outputs": [
    {
     "name": "stdout",
     "output_type": "stream",
     "text": [
      "  sitename   start_gpp     end_gpp  year_start_gpp  year_end_gpp  nyears_gpp  \\\n",
      "0   AR-SLu  2010-01-01  2010-12-31            2010          2010           1   \n",
      "1   AR-TF1  2016-01-31  2018-05-18            2017          2017           1   \n",
      "2   AT-Neu  2002-01-01  2012-12-31            2002          2012          11   \n",
      "3   AU-ASM  2011-10-15  2017-12-13            2012          2016           5   \n",
      "4   AU-Cow  2010-01-01  2015-12-20            2010          2014           5   \n",
      "\n",
      "   drop_gpp    start_le      end_le  year_start_le  year_end_le  nyears_le  \\\n",
      "0     False  2010-01-01  2010-12-31         2010.0       2010.0          1   \n",
      "1     False  2016-01-31  2018-05-18         2017.0       2017.0          1   \n",
      "2     False  2002-01-01  2012-12-31         2002.0       2012.0         11   \n",
      "3     False  2011-01-09  2017-12-13         2012.0       2016.0          5   \n",
      "4     False  2010-01-01  2015-12-30         2010.0       2014.0          5   \n",
      "\n",
      "   drop_le start_lecorr  end_lecorr  year_start_lecorr  year_end_lecorr  \\\n",
      "0    False   2010-01-01  2010-12-31             2010.0           2010.0   \n",
      "1    False          NaN         NaN                NaN              NaN   \n",
      "2    False   2002-01-01  2012-12-31             2002.0           2012.0   \n",
      "3    False   2011-01-09  2017-12-13             2012.0           2016.0   \n",
      "4    False   2011-06-21  2015-12-30             2012.0           2014.0   \n",
      "\n",
      "   nyears_lecorr  drop_lecorr  \n",
      "0              1        False  \n",
      "1              0         True  \n",
      "2             11        False  \n",
      "3              5        False  \n",
      "4              3        False  \n"
     ]
    }
   ],
   "source": [
    "# CSV with site data\n",
    "path = '/mnt/data/vajira/fluxDataKit/fdk_site_fullyearsequence.csv'\n",
    "# CSV with site data\n",
    "import pandas as pd\n",
    "# Read the CSV file\n",
    "df = pd.read_csv(path)\n",
    "# Display the first few rows of the DataFrame\n",
    "print(df.head())"
   ]
  }
 ],
 "metadata": {
  "kernelspec": {
   "display_name": ".venv",
   "language": "python",
   "name": "python3"
  },
  "language_info": {
   "codemirror_mode": {
    "name": "ipython",
    "version": 3
   },
   "file_extension": ".py",
   "mimetype": "text/x-python",
   "name": "python",
   "nbconvert_exporter": "python",
   "pygments_lexer": "ipython3",
   "version": "3.12.3"
  }
 },
 "nbformat": 4,
 "nbformat_minor": 5
}
